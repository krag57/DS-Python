{
 "cells": [
  {
   "cell_type": "code",
   "execution_count": 31,
   "metadata": {},
   "outputs": [
    {
     "name": "stdout",
     "output_type": "stream",
     "text": [
      "3\n",
      "MonthNum_1  1226800\n",
      "MonthNum_10  1245800\n",
      "MonthNum_13  1258500\n",
      "1245393\n",
      "1245393\n",
      "1245393\n",
      "1245393\n",
      "1245393\n",
      "1245393\n",
      "1245393\n",
      "1245393\n",
      "1245393\n",
      "1245393\n",
      "1245393\n",
      "1245393\n"
     ]
    }
   ],
   "source": [
    "import numpy as np\n",
    "\n",
    "N = int(input())\n",
    "data = []\n",
    "temp = []\n",
    "for i in range(N):\n",
    "     data.append(input().split())\n",
    "     temp.append(float(data[i][1]))\n",
    "     \n",
    "     \n",
    "from scipy import interpolate\n",
    "leng = list(range(len((temp))))\n",
    "interpolation = interpolate.interp1d(leng,temp,fill_value='extrapolate')\n",
    "\n",
    "y = interpolation(range(len(temp),len(temp)+12))\n",
    "        \n",
    "for x in y:\n",
    "    print(x)"
   ]
  },
  {
   "cell_type": "code",
   "execution_count": 24,
   "metadata": {},
   "outputs": [
    {
     "data": {
      "text/plain": [
       "'M'"
      ]
     },
     "execution_count": 24,
     "metadata": {},
     "output_type": "execute_result"
    }
   ],
   "source": [
    "line[0][0]"
   ]
  },
  {
   "cell_type": "code",
   "execution_count": null,
   "metadata": {},
   "outputs": [],
   "source": []
  }
 ],
 "metadata": {
  "kernelspec": {
   "display_name": "Python 3",
   "language": "python",
   "name": "python3"
  },
  "language_info": {
   "codemirror_mode": {
    "name": "ipython",
    "version": 3
   },
   "file_extension": ".py",
   "mimetype": "text/x-python",
   "name": "python",
   "nbconvert_exporter": "python",
   "pygments_lexer": "ipython3",
   "version": "3.7.0"
  }
 },
 "nbformat": 4,
 "nbformat_minor": 2
}
