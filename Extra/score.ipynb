{
 "cells": [
  {
   "cell_type": "code",
   "execution_count": 21,
   "metadata": {},
   "outputs": [
    {
     "name": "stdout",
     "output_type": "stream",
     "text": [
      "3\n",
      "4\n",
      "8\n",
      "7\n",
      "2\n",
      "2\n",
      "4\n",
      "2\n",
      "8\n",
      "4\n",
      "3\n",
      "1\n"
     ]
    }
   ],
   "source": [
    "n= int(input())\n",
    "scoreList=[]\n",
    "for i in range(n):\n",
    "    score=int(input())\n",
    "    scoreList.append(score)\n",
    "l= int(input())\n",
    "loList=[]\n",
    "for i in range(l):\n",
    "    lower=int(input())\n",
    "    loList.append(lower)\n",
    "\n",
    "u=int(input())\n",
    "upList=[]\n",
    "for i in range(u):\n",
    "    upper=int(input())\n",
    "    upList.append(upper)\n",
    "\n",
    "ocList=[]\n",
    "coList=[]\n",
    "for k in range(len(loList)):\n",
    "    occur=[j for i,j in enumerate(scoreList) if j>=loList[k] and j<=upList[k] ]\n",
    "    ocList.append(occur)\n",
    "    coList.append(len(occur))\n",
    "    \n",
    "print(*coList, sep=\"\\n\")#print(\"\\n\".join(str(loList)))"
   ]
  }
 ],
 "metadata": {
  "kernelspec": {
   "display_name": "Python 3",
   "language": "python",
   "name": "python3"
  },
  "language_info": {
   "codemirror_mode": {
    "name": "ipython",
    "version": 3
   },
   "file_extension": ".py",
   "mimetype": "text/x-python",
   "name": "python",
   "nbconvert_exporter": "python",
   "pygments_lexer": "ipython3",
   "version": "3.7.0"
  }
 },
 "nbformat": 4,
 "nbformat_minor": 2
}
