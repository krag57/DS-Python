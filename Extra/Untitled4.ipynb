{
 "cells": [
  {
   "cell_type": "code",
   "execution_count": 31,
   "metadata": {},
   "outputs": [
    {
     "name": "stdout",
     "output_type": "stream",
     "text": [
      "3\n",
      "MonthNum_1  1226800\n",
      "MonthNum_10  1245800\n",
      "MonthNum_13  1258500\n",
      "1245393\n",
      "1245393\n",
      "1245393\n",
      "1245393\n",
      "1245393\n",
      "1245393\n",
      "1245393\n",
      "1245393\n",
      "1245393\n",
      "1245393\n",
      "1245393\n",
      "1245393\n"
     ]
    }
   ],
   "source": [
    "import numpy as np\n",
    "from sklearn import datasets, linear_model\n",
    "from sklearn import svm\n",
    "from sklearn.linear_model import Ridge\n",
    "from sklearn.preprocessing import PolynomialFeatures\n",
    "import re\n",
    "from sklearn.metrics import accuracy_score\n",
    "from sklearn.pipeline import make_pipeline\n",
    "\n",
    "months = []\n",
    "npgrs = []\n",
    "X_test=[61, 62, 63, 64, 65, 66, 67, 68, 69, 70, 71, 72]\n",
    "\n",
    "\n",
    "num = int(input())\n",
    "for i in range(num):\n",
    "    line=list(map(str,input().split()))\n",
    "    npgrs.append(int(line[1]))\n",
    "    #s = mtuple.rstrip()\n",
    "    months.append(int(line[0][9:len(line[0])]))\n",
    "    \n",
    "clf=svm.SVR(kernel='rbf', C=1000, gamma=0.1)\n",
    "\n",
    "    \n",
    "\n",
    "\n",
    "X_m= np.array(months)\n",
    "Y_n=np.array(npgrs)\n",
    "\n",
    "X_m=X_m.reshape(X_m.shape[0], 1)\n",
    "\n",
    "\n",
    "clf.fit(X_m, Y_n)\n",
    "\n",
    "X_test = np.array(X_test)\n",
    "X_test = X_test.reshape(X_test.shape[0], 1)\n",
    "Y_pred=clf.predict(X_test)\n",
    "for yps in Y_pred:\n",
    "    print(int(yps))"
   ]
  },
  {
   "cell_type": "code",
   "execution_count": 24,
   "metadata": {},
   "outputs": [
    {
     "data": {
      "text/plain": [
       "'M'"
      ]
     },
     "execution_count": 24,
     "metadata": {},
     "output_type": "execute_result"
    }
   ],
   "source": [
    "line[0][0]"
   ]
  },
  {
   "cell_type": "code",
   "execution_count": null,
   "metadata": {},
   "outputs": [],
   "source": []
  }
 ],
 "metadata": {
  "kernelspec": {
   "display_name": "Python 3",
   "language": "python",
   "name": "python3"
  },
  "language_info": {
   "codemirror_mode": {
    "name": "ipython",
    "version": 3
   },
   "file_extension": ".py",
   "mimetype": "text/x-python",
   "name": "python",
   "nbconvert_exporter": "python",
   "pygments_lexer": "ipython3",
   "version": "3.7.0"
  }
 },
 "nbformat": 4,
 "nbformat_minor": 2
}
