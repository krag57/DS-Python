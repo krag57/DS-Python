{
 "cells": [
  {
   "cell_type": "code",
   "execution_count": null,
   "metadata": {},
   "outputs": [],
   "source": [
    "# necessary import libraries\n",
    "import datetime\n",
    "import numpy as np\n",
    "from sklearn.linear_model import LinearRegression\n",
    "\n",
    "# utility function\n",
    "def predictMissingHumidity(startDate, endDate, knownTimestamps, humidity, timestamps):\n",
    "    x = [int(abs((datetime.datetime.utcfromtimestamp(0) - datetime.datetime.strptime(item,\"%Y-%m-%d %H:%M\")).total_seconds())) for item in knownTimestamps]\n",
    "    y = humidity\n",
    "\n",
    "    lm = LinearRegression()\n",
    "    lm.fit(np.array(x).reshape(-1,1),y)\n",
    "\n",
    "    z = [int(abs((datetime.datetime.utcfromtimestamp(0) - datetime.datetime.strptime(item,\"%Y-%m-%d %H:%M\")).total_seconds())) for item in timestamps]\n",
    "    return lm.predict(np.array(z).reshape(-1,1))\n",
    "\n",
    "# dummy inputs\n",
    "startDate = '2013-01-01'\n",
    "endDate = '2013-01-01'\n",
    "knownTimestamps = ['2013-01-01 07:00', '2013-01-01 08:00', '2013-01-01 09:00', '2013-01-01 10:00',\n",
    "                      '2013-01-01 11:00', '2013-01-01 12:00']\n",
    "humidity = [10.0, 11.1, 13.2, 14.8, 15.6, 16.7]\n",
    "timestamps= ['2013-01-01 13:00', '2013-01-01 14:00']\n",
    "\n",
    "# call the utility function\n",
    "answer = predictMissingHumidity(startDate, endDate, knownTimestamps, humidity, timestamps)\n",
    "print(answer)"
   ]
  },
  {
   "cell_type": "code",
   "execution_count": 2,
   "metadata": {},
   "outputs": [],
   "source": [
    "# necessary import libraries\n",
    "import datetime\n",
    "import numpy as np\n",
    "from sklearn.linear_model import LinearRegression"
   ]
  },
  {
   "cell_type": "code",
   "execution_count": 1,
   "metadata": {},
   "outputs": [],
   "source": [
    "# dummy inputs\n",
    "startDate = '2013-01-01'\n",
    "endDate = '2013-01-01'\n",
    "knownTimestamps = ['2013-01-01 07:00', '2013-01-01 08:00', '2013-01-01 09:00', '2013-01-01 10:00',\n",
    "                      '2013-01-01 11:00', '2013-01-01 12:00']\n",
    "humidity = [10.0, 11.1, 13.2, 14.8, 15.6, 16.7]\n",
    "timestamps= ['2013-01-01 13:00', '2013-01-01 14:00']"
   ]
  },
  {
   "cell_type": "code",
   "execution_count": 4,
   "metadata": {},
   "outputs": [],
   "source": [
    "x = [int(abs((datetime.datetime.utcfromtimestamp(0) - datetime.datetime.strptime(item,\"%Y-%m-%d %H:%M\")).total_seconds())) for item in knownTimestamps]\n"
   ]
  },
  {
   "cell_type": "code",
   "execution_count": 6,
   "metadata": {},
   "outputs": [
    {
     "data": {
      "text/plain": [
       "LinearRegression(copy_X=True, fit_intercept=True, n_jobs=1, normalize=False)"
      ]
     },
     "execution_count": 6,
     "metadata": {},
     "output_type": "execute_result"
    }
   ],
   "source": [
    "y = humidity\n",
    "\n",
    "lm = LinearRegression()\n",
    "lm.fit(np.array(x).reshape(-1,1),y)"
   ]
  },
  {
   "cell_type": "code",
   "execution_count": 7,
   "metadata": {},
   "outputs": [
    {
     "data": {
      "text/plain": [
       "array([[1357023600],\n",
       "       [1357027200],\n",
       "       [1357030800],\n",
       "       [1357034400],\n",
       "       [1357038000],\n",
       "       [1357041600]])"
      ]
     },
     "execution_count": 7,
     "metadata": {},
     "output_type": "execute_result"
    }
   ],
   "source": [
    "np.array(x).reshape(-1,1)"
   ]
  },
  {
   "cell_type": "code",
   "execution_count": 9,
   "metadata": {},
   "outputs": [
    {
     "data": {
      "text/plain": [
       "[10.0, 11.1, 13.2, 14.8, 15.6, 16.7]"
      ]
     },
     "execution_count": 9,
     "metadata": {},
     "output_type": "execute_result"
    }
   ],
   "source": [
    "y"
   ]
  },
  {
   "cell_type": "code",
   "execution_count": 10,
   "metadata": {},
   "outputs": [
    {
     "data": {
      "text/plain": [
       "[1357023600, 1357027200, 1357030800, 1357034400, 1357038000, 1357041600]"
      ]
     },
     "execution_count": 10,
     "metadata": {},
     "output_type": "execute_result"
    }
   ],
   "source": [
    "x"
   ]
  },
  {
   "cell_type": "code",
   "execution_count": null,
   "metadata": {},
   "outputs": [],
   "source": [
    "import numpy as np\n",
    "import pandas as pd\n",
    "\n",
    "n = int(input())\n",
    "\n",
    "columns = input().split(\"\\t\")\n",
    "\n",
    "years = []\n",
    "months = []\n",
    "ttmax = []\n",
    "ttmin = []\n",
    "\n",
    "missing = []\n",
    "for i in range(n):\n",
    "    l = input().split(\"\\t\")\n",
    "\n",
    "    years.append(int(l[0]))\n",
    "    months.append(l[1])\n",
    "    \n",
    "    #print(l[2])\n",
    "    if 'Missing' in l[2]:\n",
    "        ttmax.append(np.nan)\n",
    "        missing.append([i, \"min\"])\n",
    "    else:\n",
    "        ttmax.append(float(l[2]))\n",
    "        \n",
    "    if 'Missing' in l[3]:\n",
    "        ttmin.append(np.nan)\n",
    "        missing.append([i, \"max\"])\n",
    "    else:\n",
    "        ttmin.append(float(l[3]))\n",
    "        \n",
    "dic = {}\n",
    "for col, value in zip(columns, [years, months, ttmin, ttmax]):\n",
    "    dic[col] = value\n",
    "\n",
    "df = pd.DataFrame(dic)\n",
    "df=df.interpolate(method=\"quadratic\")\n",
    "for miss in missing:\n",
    "    if miss[1] == \"min\":\n",
    "        print(round(df.iloc[miss[0]]['tmin'], 1))\n",
    "    else:\n",
    "        print(round(df.iloc[miss[0]]['tmax'], 1))"
   ]
  },
  {
   "cell_type": "code",
   "execution_count": null,
   "metadata": {},
   "outputs": [],
   "source": [
    "\n"
   ]
  }
 ],
 "metadata": {
  "kernelspec": {
   "display_name": "Python 3",
   "language": "python",
   "name": "python3"
  },
  "language_info": {
   "codemirror_mode": {
    "name": "ipython",
    "version": 3
   },
   "file_extension": ".py",
   "mimetype": "text/x-python",
   "name": "python",
   "nbconvert_exporter": "python",
   "pygments_lexer": "ipython3",
   "version": "3.7.0"
  }
 },
 "nbformat": 4,
 "nbformat_minor": 2
}
