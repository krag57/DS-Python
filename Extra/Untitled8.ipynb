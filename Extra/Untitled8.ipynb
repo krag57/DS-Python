{
 "cells": [
  {
   "cell_type": "code",
   "execution_count": 2,
   "metadata": {},
   "outputs": [
    {
     "name": "stdout",
     "output_type": "stream",
     "text": [
      "5\n",
      "yyyy    month   tmax    tmin\n",
      "1908,January,5.0,-1.4\n",
      "1908,January,6.0,-1.4\n",
      "1908,January,6.0,-1.4\n",
      "1908,January,6.0,-1.4\n",
      "1908,January,6.0,-1.4\n"
     ]
    }
   ],
   "source": [
    "import numpy as np\n",
    "import pandas as pd\n",
    "\n",
    "n = int(input())\n",
    "\n",
    "columns = input().split(\"\\t\")\n",
    "\n",
    "years = []\n",
    "months = []\n",
    "ttmax = []\n",
    "ttmin = []\n",
    "\n",
    "missing = []\n",
    "for i in range(n):\n",
    "    l = input().split(\",\")\n",
    "\n",
    "    years.append(int(l[0]))\n",
    "    months.append(l[1])\n",
    "    \n",
    "    #print(l[2])\n",
    "    if 'Missing' in l[2]:\n",
    "        ttmax.append(np.nan)\n",
    "        missing.append([i, \"min\"])\n",
    "    else:\n",
    "        ttmax.append(float(l[2]))\n",
    "        \n",
    "    if 'Missing' in l[3]:\n",
    "        ttmin.append(np.nan)\n",
    "        missing.append([i, \"max\"])\n",
    "    else:\n",
    "        ttmin.append(float(l[3]))\n",
    "        "
   ]
  },
  {
   "cell_type": "code",
   "execution_count": 19,
   "metadata": {},
   "outputs": [
    {
     "data": {
      "text/plain": [
       "[]"
      ]
     },
     "execution_count": 19,
     "metadata": {},
     "output_type": "execute_result"
    }
   ],
   "source": [
    "missing"
   ]
  },
  {
   "cell_type": "code",
   "execution_count": 16,
   "metadata": {},
   "outputs": [
    {
     "data": {
      "text/plain": [
       "[[1908, 1908, 1908, 1908, 1908],\n",
       " ['January', 'January', 'January', 'January', 'January'],\n",
       " [-1.4, -1.4, -1.4, -1.4, -1.4],\n",
       " [5.0, 6.0, 6.0, 6.0, 6.0]]"
      ]
     },
     "execution_count": 16,
     "metadata": {},
     "output_type": "execute_result"
    }
   ],
   "source": [
    "[years, months, ttmin, ttmax]"
   ]
  },
  {
   "cell_type": "code",
   "execution_count": 14,
   "metadata": {},
   "outputs": [],
   "source": [
    "dic = {}\n",
    "for col, value in zip(columns, [years, months, ttmin, ttmax]):\n",
    "    dic[col] = value\n",
    "\n"
   ]
  },
  {
   "cell_type": "code",
   "execution_count": 18,
   "metadata": {},
   "outputs": [
    {
     "data": {
      "text/html": [
       "<div>\n",
       "<style scoped>\n",
       "    .dataframe tbody tr th:only-of-type {\n",
       "        vertical-align: middle;\n",
       "    }\n",
       "\n",
       "    .dataframe tbody tr th {\n",
       "        vertical-align: top;\n",
       "    }\n",
       "\n",
       "    .dataframe thead th {\n",
       "        text-align: right;\n",
       "    }\n",
       "</style>\n",
       "<table border=\"1\" class=\"dataframe\">\n",
       "  <thead>\n",
       "    <tr style=\"text-align: right;\">\n",
       "      <th></th>\n",
       "      <th>yyyy</th>\n",
       "      <th>month</th>\n",
       "      <th>tmax</th>\n",
       "      <th>tmin</th>\n",
       "    </tr>\n",
       "  </thead>\n",
       "  <tbody>\n",
       "    <tr>\n",
       "      <th>0</th>\n",
       "      <td>1908</td>\n",
       "      <td>January</td>\n",
       "      <td>-1.4</td>\n",
       "      <td>5.0</td>\n",
       "    </tr>\n",
       "    <tr>\n",
       "      <th>1</th>\n",
       "      <td>1908</td>\n",
       "      <td>January</td>\n",
       "      <td>-1.4</td>\n",
       "      <td>6.0</td>\n",
       "    </tr>\n",
       "    <tr>\n",
       "      <th>2</th>\n",
       "      <td>1908</td>\n",
       "      <td>January</td>\n",
       "      <td>-1.4</td>\n",
       "      <td>6.0</td>\n",
       "    </tr>\n",
       "    <tr>\n",
       "      <th>3</th>\n",
       "      <td>1908</td>\n",
       "      <td>January</td>\n",
       "      <td>-1.4</td>\n",
       "      <td>6.0</td>\n",
       "    </tr>\n",
       "    <tr>\n",
       "      <th>4</th>\n",
       "      <td>1908</td>\n",
       "      <td>January</td>\n",
       "      <td>-1.4</td>\n",
       "      <td>6.0</td>\n",
       "    </tr>\n",
       "  </tbody>\n",
       "</table>\n",
       "</div>"
      ],
      "text/plain": [
       "   yyyy    month  tmax  tmin\n",
       "0  1908  January  -1.4   5.0\n",
       "1  1908  January  -1.4   6.0\n",
       "2  1908  January  -1.4   6.0\n",
       "3  1908  January  -1.4   6.0\n",
       "4  1908  January  -1.4   6.0"
      ]
     },
     "execution_count": 18,
     "metadata": {},
     "output_type": "execute_result"
    }
   ],
   "source": [
    "df"
   ]
  },
  {
   "cell_type": "code",
   "execution_count": null,
   "metadata": {},
   "outputs": [],
   "source": [
    "df = pd.DataFrame(dic)\n",
    "df=df.interpolate(method=\"quadratic\")\n",
    "for miss in missing:\n",
    "    if miss[1] == \"min\":\n",
    "        print(round(df.iloc[miss[0]]['tmin'], 1))\n",
    "    else:\n",
    "        print(round(df.iloc[miss[0]]['tmax'], 1))"
   ]
  }
 ],
 "metadata": {
  "kernelspec": {
   "display_name": "Python 3",
   "language": "python",
   "name": "python3"
  },
  "language_info": {
   "codemirror_mode": {
    "name": "ipython",
    "version": 3
   },
   "file_extension": ".py",
   "mimetype": "text/x-python",
   "name": "python",
   "nbconvert_exporter": "python",
   "pygments_lexer": "ipython3",
   "version": "3.7.0"
  }
 },
 "nbformat": 4,
 "nbformat_minor": 2
}
