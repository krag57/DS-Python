{
 "cells": [
  {
   "cell_type": "code",
   "execution_count": 62,
   "metadata": {},
   "outputs": [
    {
     "data": {
      "text/plain": [
       "0.014032215111297486"
      ]
     },
     "execution_count": 62,
     "metadata": {},
     "output_type": "execute_result"
    }
   ],
   "source": [
    "import numpy as np\n",
    "\n",
    "l1=[[1,1],[1,1],[1,2],[2,2],[2,1],[2,1],[2,2]]\n",
    "arr=np.array(l1)\n",
    "\n",
    "counts=np.unique(arr,axis=0,return_counts=True)[1]\n",
    "pxy=counts/sum(counts)\n",
    "\n",
    "cou_x=np.unique(arr[:,0],return_counts=True)[1]\n",
    "px=cou_x/sum(cou_x)\n",
    "\n",
    "cou_y=np.unique(arr[:,1],return_counts=True)[1]\n",
    "py=cou_y/sum(cou_y)\n",
    "\n",
    "Hx=-(px*np.log(px)).sum()\n",
    "Hy=-(py*np.log(py)).sum()\n",
    "Hxy=-(pxy*np.log(pxy)).sum()\n",
    "\n",
    "Hx+Hy-Hxy"
   ]
  },
  {
   "cell_type": "code",
   "execution_count": null,
   "metadata": {},
   "outputs": [],
   "source": []
  }
 ],
 "metadata": {
  "kernelspec": {
   "display_name": "Python 3",
   "language": "python",
   "name": "python3"
  },
  "language_info": {
   "codemirror_mode": {
    "name": "ipython",
    "version": 3
   },
   "file_extension": ".py",
   "mimetype": "text/x-python",
   "name": "python",
   "nbconvert_exporter": "python",
   "pygments_lexer": "ipython3",
   "version": "3.7.4"
  }
 },
 "nbformat": 4,
 "nbformat_minor": 2
}
