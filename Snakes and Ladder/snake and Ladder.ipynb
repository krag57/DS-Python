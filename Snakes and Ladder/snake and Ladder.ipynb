{
 "cells": [
  {
   "cell_type": "code",
   "execution_count": 106,
   "metadata": {},
   "outputs": [
    {
     "name": "stdout",
     "output_type": "stream",
     "text": [
      "176\n",
      "93\n"
     ]
    }
   ],
   "source": [
    "from random import choices\n",
    "inp = int(input())\n",
    "inputList = []\n",
    "proList=[]\n",
    "n_lsList=[]\n",
    "ladList=[]\n",
    "snaList=[]\n",
    "for k in range(inp):\n",
    "    pro = input().split(\",\")\n",
    "    proList.append(pro)\n",
    "    n_ls = input().split(\",\")\n",
    "    n_lsList.append(n_ls)\n",
    "    lad = input().split()\n",
    "    ladList.append(lad)\n",
    "    sna = input().split()\n",
    "    snaList.append(sna)\n",
    "\n",
    "Listcount=[]\n",
    "for i in range(inp):\n",
    "    tcount=[]\n",
    "    for j in range(5000):\n",
    "        lis=[]\n",
    "        lis.extend(s.split(\",\") for s in (ladList[i]))\n",
    "        st_la=[int(s[0]) for s in lis ]\n",
    "        end_la=[int(s[1]) for s in lis ]\n",
    "        lis1=[]\n",
    "        lis1.extend(s.split(\",\") for s in (snaList[i]))\n",
    "        st_sn=[int(s[0]) for s in lis1 ]\n",
    "        end_sn=[int(s[1]) for s in lis1 ]\n",
    "        weights=[float(s) for s in (proList[i])]\n",
    "        pos=1\n",
    "        count=0\n",
    "        while pos!=100:\n",
    "            step=choices([1, 2, 3, 4, 5, 6], weights)\n",
    "            step1=int(str(step).strip('[]'))\n",
    "            pos=pos+step1\n",
    "            count+=1\n",
    "            if pos in st_la:\n",
    "                pos=end_la[st_la.index(pos)]\n",
    "            if pos in st_sn:\n",
    "                pos=end_sn[st_sn.index(pos)]\n",
    "            if pos>100:\n",
    "                pos=pos-step1\n",
    "        tcount.append(count)\n",
    "    avg= sum(tcount)/5000   \n",
    "    Listcount.append(tcount)\n",
    "    print(round(avg))\n",
    "\n",
    "#print([round(sum(s)/5000) for s in Listcount])"
   ]
  }
 ],
 "metadata": {
  "kernelspec": {
   "display_name": "Python 3",
   "language": "python",
   "name": "python3"
  },
  "language_info": {
   "codemirror_mode": {
    "name": "ipython",
    "version": 3
   },
   "file_extension": ".py",
   "mimetype": "text/x-python",
   "name": "python",
   "nbconvert_exporter": "python",
   "pygments_lexer": "ipython3",
   "version": "3.7.0"
  }
 },
 "nbformat": 4,
 "nbformat_minor": 2
}
