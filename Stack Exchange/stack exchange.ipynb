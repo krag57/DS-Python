{
 "cells": [
  {
   "cell_type": "code",
   "execution_count": 8,
   "metadata": {},
   "outputs": [],
   "source": [
    "import json\n",
    "import numpy as np\n",
    "from sklearn.linear_model import SGDClassifier\n",
    "from sklearn.feature_extraction.text import TfidfVectorizer\n",
    "\n",
    "f = open('training.json','r',encoding=\"utf8\")\n",
    "N = int(f.readline())\n",
    "y_train=[]\n",
    "train=[]\n",
    "topic_list=[]\n",
    "for line in f:\n",
    "    j = json.loads(line)\n",
    "    topic = (j['topic'])\n",
    "    if topic in topic_list:\n",
    "        topic_index = topic_list.index(topic)\n",
    "    else:\n",
    "        topic_list.append(topic)\n",
    "        topic_index = topic_list.index(topic)\n",
    "    y_train.append(topic_index)\n",
    "    y_train.append(topic_index)\n",
    "    train.append(j['question'])\n",
    "    train.append(j['excerpt'])\n"
   ]
  },
  {
   "cell_type": "code",
   "execution_count": 14,
   "metadata": {},
   "outputs": [
    {
     "data": {
      "text/plain": [
       "['electronics',\n",
       " 'mathematica',\n",
       " 'android',\n",
       " 'security',\n",
       " 'gis',\n",
       " 'photo',\n",
       " 'scifi',\n",
       " 'unix',\n",
       " 'apple',\n",
       " 'wordpress']"
      ]
     },
     "execution_count": 14,
     "metadata": {},
     "output_type": "execute_result"
    }
   ],
   "source": [
    "topic_list"
   ]
  },
  {
   "cell_type": "code",
   "execution_count": 10,
   "metadata": {},
   "outputs": [],
   "source": [
    "test=[]\n",
    "N = int(input())\n",
    "for i in range(N):\n",
    "    j = json.loads(input())\n",
    "    test.append(j['question'])+ \" \" + j['excerpt'])\n",
    "\n",
    "    \n",
    "v = TfidfVectorizer(sublinear_tf=True,analyzer = 'word', max_df = 0.1, ngram_range=(1,2),stop_words=\"english\")\n",
    "X_train = v.fit_transform(train)\n",
    "X_test = v.transform(test)\n",
    "\n",
    "clf_hinge = SGDClassifier(loss='hinge', alpha=.00002, max_iter=30, penalty=\"l2\").fit(X_train, y_train)\n",
    "predictions = clf_hinge.predict(X_test)\n",
    "\n",
    "for i in predictions:\n",
    "    print(topic_list[i])"
   ]
  },
  {
   "cell_type": "code",
   "execution_count": 13,
   "metadata": {},
   "outputs": [
    {
     "data": {
      "text/plain": [
       "<1x327832 sparse matrix of type '<class 'numpy.float64'>'\n",
       "\twith 28 stored elements in Compressed Sparse Row format>"
      ]
     },
     "execution_count": 13,
     "metadata": {},
     "output_type": "execute_result"
    }
   ],
   "source": []
  },
  {
   "cell_type": "code",
   "execution_count": null,
   "metadata": {},
   "outputs": [],
   "source": []
  }
 ],
 "metadata": {
  "kernelspec": {
   "display_name": "Python 3",
   "language": "python",
   "name": "python3"
  },
  "language_info": {
   "codemirror_mode": {
    "name": "ipython",
    "version": 3
   },
   "file_extension": ".py",
   "mimetype": "text/x-python",
   "name": "python",
   "nbconvert_exporter": "python",
   "pygments_lexer": "ipython3",
   "version": "3.7.0"
  }
 },
 "nbformat": 4,
 "nbformat_minor": 2
}
