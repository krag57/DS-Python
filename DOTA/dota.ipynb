{
 "cells": [
  {
   "cell_type": "code",
   "execution_count": 8,
   "metadata": {},
   "outputs": [],
   "source": [
    "from sklearn import tree\n",
    "\n",
    "# Open the file and read in data from that.\n",
    "training_data_file = open(\"trainingdata.txt\")\n",
    "theList = []\n",
    "for entry in training_data_file:\n",
    "    entry = entry.strip(\"\\n\")\n",
    "    theList.append(entry)\n",
    "training_data_file.close()"
   ]
  },
  {
   "cell_type": "code",
   "execution_count": 22,
   "metadata": {},
   "outputs": [],
   "source": [
    "dataChampions = []\n",
    "dataWinners = []"
   ]
  },
  {
   "cell_type": "code",
   "execution_count": 20,
   "metadata": {},
   "outputs": [],
   "source": [
    "# Initialize a dictionary\n",
    "db1 = dict()\n",
    "\n",
    "# Iterate through each line in theList\n",
    "i = 0\n",
    "count = 0\n",
    "\n",
    "# Each champion is assigned a unique id\n",
    "for item in theList:\n",
    "    #if '1' in item:\n",
    "    champions = item.split(',')\n",
    "    champions.pop()\n",
    "    for j in range(10):\n",
    "        if champions[j] not in db1:\n",
    "            db1[champions[j]] = count\n",
    "            count += 1\n",
    "\n",
    "    #else:\n",
    "#        champions = item.split(',')\n",
    "#        champions.pop()\n",
    "#        j = 5\n",
    "#        for j in range(5, 10):\n",
    "#            if champions[j] not in db:\n",
    "#                db[champions[j]] = count\n",
    "#                count += 1\n"
   ]
  },
  {
   "cell_type": "code",
   "execution_count": 29,
   "metadata": {},
   "outputs": [],
   "source": [
    "for item in theList:\n",
    "    data = []\n",
    "    champions = item.split(',')\n",
    "    winner = champions.pop()\n",
    "    dataWinners.append(winner)\n",
    "    j = 0\n",
    "    for j in range(len(champions)):\n",
    "        data.append(db1[champions[j]])\n",
    "        j += 1\n",
    "    dataChampions.append(data)"
   ]
  },
  {
   "cell_type": "code",
   "execution_count": 30,
   "metadata": {},
   "outputs": [
    {
     "data": {
      "text/plain": [
       "30"
      ]
     },
     "execution_count": 30,
     "metadata": {},
     "output_type": "execute_result"
    }
   ],
   "source": [
    "db1[champions[2]]"
   ]
  },
  {
   "cell_type": "code",
   "execution_count": 31,
   "metadata": {},
   "outputs": [
    {
     "data": {
      "text/plain": [
       "['Tidehunter',\n",
       " 'Viper',\n",
       " 'Treant Protector',\n",
       " 'Axe',\n",
       " 'Dazzle',\n",
       " 'Magnus',\n",
       " 'Ursa',\n",
       " 'Bloodseeker',\n",
       " 'Omniknight',\n",
       " 'Outworld Devourer']"
      ]
     },
     "execution_count": 31,
     "metadata": {},
     "output_type": "execute_result"
    }
   ],
   "source": [
    "champions"
   ]
  },
  {
   "cell_type": "code",
   "execution_count": 32,
   "metadata": {},
   "outputs": [
    {
     "data": {
      "text/plain": [
       "DecisionTreeClassifier(class_weight=None, criterion='gini', max_depth=None,\n",
       "            max_features=None, max_leaf_nodes=None,\n",
       "            min_impurity_decrease=0.0, min_impurity_split=None,\n",
       "            min_samples_leaf=1, min_samples_split=2,\n",
       "            min_weight_fraction_leaf=0.0, presort=False, random_state=None,\n",
       "            splitter='best')"
      ]
     },
     "execution_count": 32,
     "metadata": {},
     "output_type": "execute_result"
    }
   ],
   "source": [
    "my_classifier = tree.DecisionTreeClassifier()\n",
    "\n",
    "# Train the classifier\n",
    "my_classifier.fit(dataChampions, dataWinners)"
   ]
  },
  {
   "cell_type": "code",
   "execution_count": 37,
   "metadata": {},
   "outputs": [],
   "source": []
  },
  {
   "cell_type": "code",
   "execution_count": 35,
   "metadata": {},
   "outputs": [
    {
     "name": "stdout",
     "output_type": "stream",
     "text": [
      "5\n",
      "Spectre,Nature's Prophet,Ogre Magi,Nyx Assassin,Kunkka,Lone Druid,Windrunner,Disruptor,Juggernaut,Naga Siren\n",
      "Windrunner,Medusa,Zeus,Shadow Fiend,Troll Warlord,Bounty Hunter,Pudge,Lycanthrope,Riki,Pugna\n",
      "Ogre Magi,Sniper,Rubick,Lifestealer,Treant Protector,Slardar,Lion,Shadow Fiend,Weaver,Nature's Prophet\n",
      "Sniper,Nyx Assassin,Lich,Axe,Necrolyte,Magnus,Juggernaut,Dazzle,Tinker,Nature's Prophet\n",
      "Sniper,Nyx Assassin,Lich,Axe,Necrolyte,Magnus,Juggernaut,Dazzle,Tinker,Nature's Prophet\n"
     ]
    }
   ],
   "source": [
    "# Test the algorithm\n",
    "inp = int(input())\n",
    "inputList = []\n",
    "\n",
    "for k in range(inp):\n",
    "    line = input()\n",
    "    inputList.append(line)\n",
    "\n",
    "testChampions = []\n",
    "\n",
    "for item in inputList:\n",
    "    stringChampions = item.split(',')\n",
    "    intChampions = []\n",
    "    for z in range(10):\n",
    "        intChampions.append(db[stringChampions[z]])\n",
    "    testChampions.append(intChampions)"
   ]
  },
  {
   "cell_type": "code",
   "execution_count": 36,
   "metadata": {},
   "outputs": [
    {
     "name": "stdout",
     "output_type": "stream",
     "text": [
      "2\n",
      "1\n",
      "1\n",
      "2\n",
      "2\n"
     ]
    }
   ],
   "source": [
    "predictions = my_classifier.predict(testChampions)\n",
    "\n",
    "# Print the results\n",
    "for prediction in predictions:\n",
    "    print(prediction)"
   ]
  },
  {
   "cell_type": "code",
   "execution_count": null,
   "metadata": {},
   "outputs": [],
   "source": []
  },
  {
   "cell_type": "code",
   "execution_count": null,
   "metadata": {},
   "outputs": [],
   "source": []
  }
 ],
 "metadata": {
  "kernelspec": {
   "display_name": "Python 3",
   "language": "python",
   "name": "python3"
  },
  "language_info": {
   "codemirror_mode": {
    "name": "ipython",
    "version": 3
   },
   "file_extension": ".py",
   "mimetype": "text/x-python",
   "name": "python",
   "nbconvert_exporter": "python",
   "pygments_lexer": "ipython3",
   "version": "3.7.0"
  }
 },
 "nbformat": 4,
 "nbformat_minor": 2
}
