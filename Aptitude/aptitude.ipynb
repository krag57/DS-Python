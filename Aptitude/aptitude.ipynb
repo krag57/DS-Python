{
 "cells": [
  {
   "cell_type": "code",
   "execution_count": null,
   "metadata": {},
   "outputs": [],
   "source": [
    "import json\n",
    "import numpy as np\n",
    "from sklearn.linear_model import SGDClassifier\n",
    "from sklearn.feature_extraction.text import TfidfVectorizer\n",
    "\n",
    "f = open('training.json','r',encoding=\"utf8\")\n",
    "N = int(f.readline())\n",
    "y_train=[]\n",
    "train=[]\n",
    "topic_list=[]\n",
    "for line in f:\n",
    "    j = json.loads(line)\n",
    "    topic = (j['topic'])\n",
    "    if topic in topic_list:\n",
    "        topic_index = topic_list.index(topic)\n",
    "    else:\n",
    "        topic_list.append(topic)\n",
    "        topic_index = topic_list.index(topic)\n",
    "    y_train.append(topic_index)\n",
    "    y_train.append(topic_index)\n",
    "    train.append(j['question'])\n",
    "    train.append(j['excerpt'])\n",
    "\n"
   ]
  },
  {
   "cell_type": "code",
   "execution_count": null,
   "metadata": {},
   "outputs": [],
   "source": [
    "print(train)"
   ]
  },
  {
   "cell_type": "code",
   "execution_count": null,
   "metadata": {},
   "outputs": [],
   "source": []
  }
 ],
 "metadata": {
  "kernelspec": {
   "display_name": "Python 3",
   "language": "python",
   "name": "python3"
  },
  "language_info": {
   "codemirror_mode": {
    "name": "ipython",
    "version": 3
   },
   "file_extension": ".py",
   "mimetype": "text/x-python",
   "name": "python",
   "nbconvert_exporter": "python",
   "pygments_lexer": "ipython3",
   "version": "3.7.0"
  }
 },
 "nbformat": 4,
 "nbformat_minor": 2
}
