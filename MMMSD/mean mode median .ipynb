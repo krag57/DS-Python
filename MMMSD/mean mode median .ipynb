{
 "cells": [
  {
   "cell_type": "code",
   "execution_count": 27,
   "metadata": {},
   "outputs": [
    {
     "name": "stdout",
     "output_type": "stream",
     "text": [
      "10\n",
      "64630 11735 14216 99233 14470 4978 73429 38120 51135 67060\n",
      "43900.6\n",
      "44627.5\n",
      "4978\n",
      "30466.9\n",
      "25017.0 62784.2\n"
     ]
    }
   ],
   "source": [
    "n= int(input())\n",
    "#scoreList=[]\n",
    "#occur={}\n",
    "score=list(map(int,input().split()))\n",
    "#scoreList.append(score)\n",
    "score.sort()\n",
    "def mean(score):\n",
    "    return round(sum(score)/n,1)\n",
    "\n",
    "def median(score):\n",
    "    if n%2!=0:\n",
    "        return score[int((n+1)/2)-1]\n",
    "    else:\n",
    "        return (score[int(n/2)-1]+score[int((n/2)+1)-1])/2\n",
    "    \n",
    "def mode(score):\n",
    "    freList=[score.count(sc) for sc in score]\n",
    "    mo=score[freList.index(max(freList))]\n",
    "    return mo\n",
    "\n",
    "def sd(score):\n",
    "    sss=[(i-mean(score))**2 for i in score]\n",
    "    return round(((sum(sss)/n)**0.5),1)\n",
    "\n",
    "def ci(score):\n",
    "    up=round(mean(score)+1.96*(sd(score)/n**0.5),1)\n",
    "    lo=round(mean(score)-1.96*(sd(score)/n**0.5),1)\n",
    "    return[lo,up]\n",
    "\n",
    "print(mean(score))\n",
    "print(median(score))    \n",
    "print(mode(score))\n",
    "print(sd(score))\n",
    "print(*ci(score))"
   ]
  },
  {
   "cell_type": "code",
   "execution_count": 11,
   "metadata": {},
   "outputs": [
    {
     "data": {
      "text/plain": [
       "[1, 2, 2, 3, 4, 4, 5, 7, 7, 9]"
      ]
     },
     "execution_count": 11,
     "metadata": {},
     "output_type": "execute_result"
    }
   ],
   "source": [
    "score"
   ]
  },
  {
   "cell_type": "code",
   "execution_count": 23,
   "metadata": {},
   "outputs": [
    {
     "name": "stdout",
     "output_type": "stream",
     "text": [
      "-0.42 9.22\n"
     ]
    }
   ],
   "source": [
    "ci(score)"
   ]
  },
  {
   "cell_type": "code",
   "execution_count": 17,
   "metadata": {},
   "outputs": [
    {
     "data": {
      "text/plain": [
       "9.2216"
      ]
     },
     "execution_count": 17,
     "metadata": {},
     "output_type": "execute_result"
    }
   ],
   "source": [
    "1.96*sd(score)+mean(score)"
   ]
  },
  {
   "cell_type": "code",
   "execution_count": 79,
   "metadata": {},
   "outputs": [
    {
     "data": {
      "text/plain": [
       "2.0"
      ]
     },
     "execution_count": 79,
     "metadata": {},
     "output_type": "execute_result"
    }
   ],
   "source": [
    "n/2"
   ]
  },
  {
   "cell_type": "code",
   "execution_count": 39,
   "metadata": {},
   "outputs": [
    {
     "data": {
      "text/plain": [
       "[16, 9, 4, 1, 0]"
      ]
     },
     "execution_count": 39,
     "metadata": {},
     "output_type": "execute_result"
    }
   ],
   "source": [
    "sss"
   ]
  },
  {
   "cell_type": "code",
   "execution_count": 41,
   "metadata": {},
   "outputs": [
    {
     "data": {
      "text/plain": [
       "2.449489742783178"
      ]
     },
     "execution_count": 41,
     "metadata": {},
     "output_type": "execute_result"
    }
   ],
   "source": [
    "((sum(sss)/5)**0.5)"
   ]
  },
  {
   "cell_type": "code",
   "execution_count": null,
   "metadata": {},
   "outputs": [],
   "source": []
  }
 ],
 "metadata": {
  "kernelspec": {
   "display_name": "Python 3",
   "language": "python",
   "name": "python3"
  },
  "language_info": {
   "codemirror_mode": {
    "name": "ipython",
    "version": 3
   },
   "file_extension": ".py",
   "mimetype": "text/x-python",
   "name": "python",
   "nbconvert_exporter": "python",
   "pygments_lexer": "ipython3",
   "version": "3.7.0"
  }
 },
 "nbformat": 4,
 "nbformat_minor": 2
}
